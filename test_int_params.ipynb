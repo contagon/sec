{
 "cells": [
  {
   "cell_type": "code",
   "execution_count": 2,
   "metadata": {},
   "outputs": [],
   "source": [
    "import numpy as np\n",
    "from scipy.linalg import expm"
   ]
  },
  {
   "cell_type": "code",
   "execution_count": 22,
   "metadata": {},
   "outputs": [
    {
     "data": {
      "text/plain": [
       "array([[0., 0., 1., 0., 0., 0.],\n",
       "       [0., 0., 0., 2., 0., 0.],\n",
       "       [0., 0., 0., 0., 3., 0.],\n",
       "       [0., 0., 0., 0., 0., 4.],\n",
       "       [0., 0., 0., 0., 0., 0.],\n",
       "       [0., 0., 0., 0., 0., 0.]])"
      ]
     },
     "execution_count": 22,
     "metadata": {},
     "output_type": "execute_result"
    }
   ],
   "source": [
    "delta = np.zeros((6, 6))\n",
    "delta[:4, 2:] = np.diag([1,2, 3, 4])\n",
    "dt = 0.1\n",
    "delta"
   ]
  },
  {
   "cell_type": "code",
   "execution_count": 21,
   "metadata": {},
   "outputs": [
    {
     "data": {
      "text/plain": [
       "array([[1.   , 0.   , 0.1  , 0.   , 0.015, 0.   ],\n",
       "       [0.   , 1.   , 0.   , 0.2  , 0.   , 0.04 ],\n",
       "       [0.   , 0.   , 1.   , 0.   , 0.3  , 0.   ],\n",
       "       [0.   , 0.   , 0.   , 1.   , 0.   , 0.4  ],\n",
       "       [0.   , 0.   , 0.   , 0.   , 1.   , 0.   ],\n",
       "       [0.   , 0.   , 0.   , 0.   , 0.   , 1.   ]])"
      ]
     },
     "execution_count": 21,
     "metadata": {},
     "output_type": "execute_result"
    }
   ],
   "source": [
    "expm(delta*dt)"
   ]
  },
  {
   "cell_type": "code",
   "execution_count": 15,
   "metadata": {},
   "outputs": [],
   "source": [
    "import sympy as sy"
   ]
  },
  {
   "cell_type": "code",
   "execution_count": 27,
   "metadata": {},
   "outputs": [
    {
     "data": {
      "text/latex": [
       "$\\displaystyle \\left[\\begin{matrix}1 & 0 & \\Delta t a & 0 & \\frac{\\Delta t^{2} a c}{2} & 0\\\\0 & 1 & 0 & \\Delta t b & 0 & \\frac{\\Delta t^{2} b d}{2}\\\\0 & 0 & 1 & 0 & \\Delta t c & 0\\\\0 & 0 & 0 & 1 & 0 & \\Delta t d\\\\0 & 0 & 0 & 0 & 1 & 0\\\\0 & 0 & 0 & 0 & 0 & 1\\end{matrix}\\right]$"
      ],
      "text/plain": [
       "Matrix([\n",
       "[1, 0, \\Delta t*a,          0, \\Delta t**2*a*c/2,                 0],\n",
       "[0, 1,          0, \\Delta t*b,                 0, \\Delta t**2*b*d/2],\n",
       "[0, 0,          1,          0,        \\Delta t*c,                 0],\n",
       "[0, 0,          0,          1,                 0,        \\Delta t*d],\n",
       "[0, 0,          0,          0,                 1,                 0],\n",
       "[0, 0,          0,          0,                 0,                 1]])"
      ]
     },
     "execution_count": 27,
     "metadata": {},
     "output_type": "execute_result"
    }
   ],
   "source": [
    "a, b, c, d = sy.symbols('a b c d')\n",
    "dt = sy.Symbol('\\Delta t')\n",
    "m = sy.Matrix([[0, 0, a, 0, 0, 0],\n",
    "               [0, 0, 0, b, 0, 0],\n",
    "               [0, 0, 0, 0, c, 0],\n",
    "               [0, 0, 0, 0, 0, d],\n",
    "               [0, 0, 0, 0, 0, 0],\n",
    "               [0, 0, 0, 0, 0, 0]])\n",
    "I = sy.eye(6)\n",
    "I + m*dt + m**2*dt**2/2 + m**3*dt**3/6 + m**4*dt**4/24 + m**5*dt**5/120 + m**6*dt**6/720"
   ]
  },
  {
   "cell_type": "code",
   "execution_count": null,
   "metadata": {},
   "outputs": [],
   "source": []
  }
 ],
 "metadata": {
  "kernelspec": {
   "display_name": "sec",
   "language": "python",
   "name": "python3"
  },
  "language_info": {
   "codemirror_mode": {
    "name": "ipython",
    "version": 3
   },
   "file_extension": ".py",
   "mimetype": "text/x-python",
   "name": "python",
   "nbconvert_exporter": "python",
   "pygments_lexer": "ipython3",
   "version": "3.11.8"
  }
 },
 "nbformat": 4,
 "nbformat_minor": 2
}
