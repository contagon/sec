{
 "cells": [
  {
   "cell_type": "code",
   "execution_count": 3,
   "metadata": {},
   "outputs": [
    {
     "name": "stderr",
     "output_type": "stream",
     "text": [
      "An NVIDIA GPU may be present on this machine, but a CUDA-enabled jaxlib is not installed. Falling back to cpu.\n"
     ]
    },
    {
     "data": {
      "text/plain": [
       "Array([1, 2, 3], dtype=int32)"
      ]
     },
     "execution_count": 3,
     "metadata": {},
     "output_type": "execute_result"
    }
   ],
   "source": [
    "import jax\n",
    "import jax.numpy as np\n",
    "x = np.array([1, 2, 3])\n",
    "x"
   ]
  },
  {
   "cell_type": "code",
   "execution_count": 10,
   "metadata": {},
   "outputs": [],
   "source": [
    "g = jax.jit(lambda x: x**2 / 2)\n",
    "x = np.array([1.0, 2.0, 3.0])\n",
    "\n",
    "@jax.jit\n",
    "@jax.jacfwd\n",
    "def jacg(x):\n",
    "    return g(x)\n",
    "\n",
    "@jax.jit\n",
    "@jax.jacrev\n",
    "@jax.jacfwd\n",
    "def hessg(x):\n",
    "    return g(x)"
   ]
  },
  {
   "cell_type": "code",
   "execution_count": 5,
   "metadata": {},
   "outputs": [
    {
     "name": "stdout",
     "output_type": "stream",
     "text": [
      "1.85 µs ± 2.28 ns per loop (mean ± std. dev. of 7 runs, 1,000,000 loops each)\n",
      "1.87 µs ± 4.36 ns per loop (mean ± std. dev. of 7 runs, 1,000,000 loops each)\n",
      "2.12 µs ± 7.53 ns per loop (mean ± std. dev. of 7 runs, 100,000 loops each)\n"
     ]
    }
   ],
   "source": [
    "%timeit g(x).block_until_ready()\n",
    "%timeit jacg(x).block_until_ready()\n",
    "%timeit hessg(x).block_until_ready()"
   ]
  },
  {
   "cell_type": "code",
   "execution_count": 7,
   "metadata": {},
   "outputs": [],
   "source": [
    "g = jax.jit(lambda x: x**2 / 2)\n",
    "\n",
    "@jax.jit\n",
    "def jacg(x):\n",
    "    return jax.jacfwd(g)(x)\n",
    "\n",
    "@jax.jit\n",
    "def hessg(x):\n",
    "    return jax.jacrev(jax.jacfwd(g))(x)"
   ]
  },
  {
   "cell_type": "code",
   "execution_count": 8,
   "metadata": {},
   "outputs": [
    {
     "name": "stdout",
     "output_type": "stream",
     "text": [
      "1.88 µs ± 12.2 ns per loop (mean ± std. dev. of 7 runs, 1,000,000 loops each)\n",
      "1.88 µs ± 3.69 ns per loop (mean ± std. dev. of 7 runs, 1,000,000 loops each)\n",
      "2.1 µs ± 12.1 ns per loop (mean ± std. dev. of 7 runs, 100,000 loops each)\n"
     ]
    }
   ],
   "source": [
    "%timeit g(x).block_until_ready()\n",
    "%timeit jacg(x).block_until_ready()\n",
    "%timeit hessg(x).block_until_ready()"
   ]
  },
  {
   "cell_type": "code",
   "execution_count": null,
   "metadata": {},
   "outputs": [],
   "source": []
  }
 ],
 "metadata": {
  "kernelspec": {
   "display_name": "sec",
   "language": "python",
   "name": "python3"
  },
  "language_info": {
   "codemirror_mode": {
    "name": "ipython",
    "version": 3
   },
   "file_extension": ".py",
   "mimetype": "text/x-python",
   "name": "python",
   "nbconvert_exporter": "python",
   "pygments_lexer": "ipython3",
   "version": "3.11.8"
  }
 },
 "nbformat": 4,
 "nbformat_minor": 2
}
